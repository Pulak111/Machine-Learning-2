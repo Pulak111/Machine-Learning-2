{
 "cells": [
  {
   "cell_type": "markdown",
   "id": "a5a4188b",
   "metadata": {},
   "source": [
    "# PRIYANSHU"
   ]
  },
  {
   "cell_type": "code",
   "execution_count": null,
   "id": "9c4c8243",
   "metadata": {},
   "outputs": [],
   "source": [
    "import numpy as np\n",
    "import matplotlib.pyplot as plt\n",
    "import pandas as pd"
   ]
  },
  {
   "cell_type": "code",
   "execution_count": null,
   "id": "d57f7c21",
   "metadata": {},
   "outputs": [],
   "source": [
    "pwd"
   ]
  },
  {
   "cell_type": "code",
   "execution_count": null,
   "id": "b43852b8",
   "metadata": {},
   "outputs": [],
   "source": [
    "ls"
   ]
  },
  {
   "cell_type": "code",
   "execution_count": null,
   "id": "a6f71397",
   "metadata": {},
   "outputs": [],
   "source": [
    "dataset = pd.read_csv('Data.csv')"
   ]
  },
  {
   "cell_type": "code",
   "execution_count": null,
   "id": "84e8edd3",
   "metadata": {},
   "outputs": [],
   "source": [
    "dataset"
   ]
  },
  {
   "cell_type": "code",
   "execution_count": null,
   "id": "6f994307",
   "metadata": {},
   "outputs": [],
   "source": [
    "X = dataset.iloc[:, :-1].values # ['rows'(start(0) : end(end - 1)) , 'columns'(start : last - 1)]\n",
    "X"
   ]
  },
  {
   "cell_type": "code",
   "execution_count": null,
   "id": "9a3180c0",
   "metadata": {},
   "outputs": [],
   "source": [
    "y = dataset.iloc[:, 3].values\n",
    "y"
   ]
  },
  {
   "cell_type": "markdown",
   "id": "177983de",
   "metadata": {},
   "source": [
    "# MISSING DATA"
   ]
  },
  {
   "cell_type": "code",
   "execution_count": null,
   "id": "2987b679",
   "metadata": {},
   "outputs": [],
   "source": [
    "'''dataset = pd.read_csv('Data.csv')\n",
    "X = dataset.iloc[:, :-1].values\n",
    "y = dataset.iloc[:, 3].values'''"
   ]
  },
  {
   "cell_type": "code",
   "execution_count": null,
   "id": "d0211102",
   "metadata": {},
   "outputs": [],
   "source": [
    " from sklearn.impute import SimpleImputer   # Imputer class --> allows to take care missing data\n",
    "\n",
    "# making object of imputer class\n",
    "imputer = SimpleImputer(missing_values = np.nan, strategy = 'mean') # we can give 'mean, most_frequent' also as s\n",
    "\n",
    "imputer.fit(X[:, 1:3]) # need to put column which have missing data\n",
    "\n",
    "X[:, 1:3] = imputer.transform(X[:, 1:3]) # putting the value from imputer to 'NaN'\n",
    "X"
   ]
  },
  {
   "cell_type": "markdown",
   "id": "780bb486",
   "metadata": {},
   "source": [
    "# Encoding Categorical Data"
   ]
  },
  {
   "cell_type": "code",
   "execution_count": null,
   "id": "c65eb706",
   "metadata": {},
   "outputs": [],
   "source": [
    "# Caterogical Data --> Data which is in the form of string\n"
   ]
  },
  {
   "cell_type": "code",
   "execution_count": null,
   "id": "07c1ac36",
   "metadata": {},
   "outputs": [],
   "source": [
    "'''dataset = pd.read_csv('Data.csv')\n",
    "X = dataset.iloc[:, :-1].values \n",
    "y = dataset.iloc[:, 3].values'''"
   ]
  },
  {
   "cell_type": "markdown",
   "id": "a9a65048",
   "metadata": {},
   "source": [
    "## For Column 1"
   ]
  },
  {
   "cell_type": "code",
   "execution_count": null,
   "id": "b782863c",
   "metadata": {},
   "outputs": [],
   "source": [
    "#from sklearn.preprocessing import OneHotEncoder\n",
    "\n",
    "from sklearn.compose import ColumnTransformer\n",
    "\n",
    "ct = ColumnTransformer([('encoder', OneHotEncoder(), [0])], remainder='passthrough') \n",
    "# encoder class ki help se '0' index ko encode kar rha\n",
    "# remainder --> baki data ko change karne se rokega\n",
    "\n",
    "X = np.array(ct.fit_transform(X))\n",
    "X\n",
    "# fit_transform --> ki madad se X dataset ko ct object use kar raha"
   ]
  },
  {
   "cell_type": "code",
   "execution_count": null,
   "id": "426035b1",
   "metadata": {},
   "outputs": [],
   "source": [
    "import sklearn.preprocessing"
   ]
  },
  {
   "cell_type": "markdown",
   "id": "ce430b2f",
   "metadata": {},
   "source": [
    "##  For Column  4"
   ]
  },
  {
   "cell_type": "code",
   "execution_count": null,
   "id": "7d135188",
   "metadata": {},
   "outputs": [],
   "source": [
    "from sklearn.preprocessing import LabelEncoder\n",
    "# LabelEncoder class --> changes string into integer (as we have to do mathematical operations)\n",
    "\n",
    "labelencoder_y = LabelEncoder() # creating object of LabelEncoder class\n",
    "y = labelencoder_y.fit_transform(y) # fitting the data in object & change it to integer\n",
    "y"
   ]
  },
  {
   "cell_type": "markdown",
   "id": "40265c90",
   "metadata": {},
   "source": [
    "# Splitting the Data set into Training Set & Test Set"
   ]
  },
  {
   "cell_type": "code",
   "execution_count": null,
   "id": "389078f6",
   "metadata": {},
   "outputs": [],
   "source": [
    "'''dataset = pd.read_csv('Data.csv')\n",
    "X = dataset.iloc[:, :-1].values \n",
    "y = dataset.iloc[:, 3].values'''"
   ]
  },
  {
   "cell_type": "code",
   "execution_count": null,
   "id": "28269914",
   "metadata": {},
   "outputs": [],
   "source": [
    "from sklearn.model_selection import train_test_split\n",
    "X_train, X_test, y_train, y_test = train_test_split(X, y, test_size = 0.2, random_state = 0)\n",
    "# 80% data is for training the model & 20% for test case"
   ]
  },
  {
   "cell_type": "code",
   "execution_count": null,
   "id": "1757aacd",
   "metadata": {},
   "outputs": [],
   "source": [
    "X_train"
   ]
  },
  {
   "cell_type": "code",
   "execution_count": null,
   "id": "fd05009c",
   "metadata": {},
   "outputs": [],
   "source": [
    "X_test"
   ]
  },
  {
   "cell_type": "code",
   "execution_count": null,
   "id": "05c7edb2",
   "metadata": {},
   "outputs": [],
   "source": [
    "y_test"
   ]
  },
  {
   "cell_type": "code",
   "execution_count": null,
   "id": "ae8bd053",
   "metadata": {},
   "outputs": [],
   "source": [
    "y_train"
   ]
  },
  {
   "cell_type": "markdown",
   "id": "af36974b",
   "metadata": {},
   "source": [
    "# Featuring Scaling\n",
    "\n",
    "## We need to feature scaling to make all data in same range "
   ]
  },
  {
   "cell_type": "code",
   "execution_count": null,
   "id": "33f1af49",
   "metadata": {},
   "outputs": [],
   "source": [
    "from sklearn.preprocessing import StandardScaler \n",
    "sc_X = StandardScaler()\n",
    "X_train = sc_X.fit_transform(X_train) # \n",
    "X_test = sc_X.transform(X_test)"
   ]
  },
  {
   "cell_type": "code",
   "execution_count": null,
   "id": "9b7a1d25",
   "metadata": {},
   "outputs": [],
   "source": [
    "X_train"
   ]
  },
  {
   "cell_type": "code",
   "execution_count": null,
   "id": "371fa674",
   "metadata": {},
   "outputs": [],
   "source": [
    "X_test"
   ]
  },
  {
   "cell_type": "code",
   "execution_count": null,
   "id": "cb65a9b2",
   "metadata": {},
   "outputs": [],
   "source": []
  }
 ],
 "metadata": {
  "kernelspec": {
   "display_name": "Python 3 (ipykernel)",
   "language": "python",
   "name": "python3"
  },
  "language_info": {
   "codemirror_mode": {
    "name": "ipython",
    "version": 3
   },
   "file_extension": ".py",
   "mimetype": "text/x-python",
   "name": "python",
   "nbconvert_exporter": "python",
   "pygments_lexer": "ipython3",
   "version": "3.11.3"
  }
 },
 "nbformat": 4,
 "nbformat_minor": 5
}
